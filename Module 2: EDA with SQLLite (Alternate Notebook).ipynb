{
    "cells": [
        {
            "cell_type": "markdown",
            "metadata": {},
            "source": "<center>\n    <img src=\"https://gitlab.com/ibm/skills-network/courses/placeholder101/-/raw/master/labs/module%201/images/IDSNlogo.png\"  width=\"300\" alt=\"cognitiveclass.ai logo\"  />\n</center>\n\n<h1 align=center><font size = 5>Assignment: SQL Notebook for Peer Assignment</font></h1>\n\nEstimated time needed: **60** minutes.\n\n## Introduction\n\nUsing this Python notebook you will:\n\n1.  Understand the Spacex DataSet\n2.  Load the dataset  into the corresponding table in a Db2 database\n3.  Execute SQL queries to answer assignment questions\n"
        },
        {
            "cell_type": "markdown",
            "metadata": {},
            "source": "## Overview of the DataSet\n\nSpaceX has gained worldwide attention for a series of historic milestones.\n\nIt is the only private company ever to return a spacecraft from low-earth orbit, which it first accomplished in December 2010.\nSpaceX advertises Falcon 9 rocket launches on its website with a cost of 62 million dollars wheras other providers cost upward of 165 million dollars each, much of the savings is because Space X can reuse the first stage.\n\nTherefore if we can determine if the first stage will land, we can determine the cost of a launch.\n\nThis information can be used if an alternate company wants to bid against SpaceX for a rocket launch.\n\nThis dataset includes a record for each payload carried during a SpaceX mission into outer space.\n"
        },
        {
            "cell_type": "markdown",
            "metadata": {},
            "source": "### Download the datasets\n\nThis assignment requires you to load the spacex dataset.\n\nIn many cases the dataset to be analyzed is available as a .CSV (comma separated values) file, perhaps on the internet. Click on the link below to download and save the dataset (.CSV file):\n\n<a href=\"https://cf-courses-data.s3.us.cloud-object-storage.appdomain.cloud/IBM-DS0321EN-SkillsNetwork/labs/module_2/data/Spacex.csv?utm_medium=Exinfluencer&utm_source=Exinfluencer&utm_content=000026UJ&utm_term=10006555&utm_id=NA-SkillsNetwork-Channel-SkillsNetworkCoursesIBMDS0321ENSkillsNetwork26802033-2021-01-01\" target=\"_blank\">Spacex DataSet</a>\n"
        },
        {
            "cell_type": "markdown",
            "metadata": {},
            "source": "### Store the dataset in database table\n\n**it is highly recommended to manually load the table using the database console LOAD tool in DB2**.\n\n<img src = \"https://cf-courses-data.s3.us.cloud-object-storage.appdomain.cloud/IBM-DS0321EN-SkillsNetwork/labs/module_2/images/spacexload.png\">\n\nNow open the Db2 console, open the LOAD tool, Select / Drag the .CSV file for the  dataset, Next create a New Table, and then follow the steps on-screen instructions to load the data. Name the new table as follows:\n\n**SPACEXDATASET**\n\n**Follow these steps while using old DB2 UI which is having Open Console Screen**\n\n**Note:While loading Spacex dataset, ensure that detect datatypes is disabled. Later click on the pencil icon(edit option).**\n\n1.  Change the Date Format by manually typing DD-MM-YYYY and timestamp format as DD-MM-YYYY HH\\:MM:SS\n\n2.  Change the PAYLOAD_MASS\\_\\_KG\\_  datatype  to INTEGER.\n\n<img src = \"https://cf-courses-data.s3.us.cloud-object-storage.appdomain.cloud/IBM-DS0321EN-SkillsNetwork/labs/module_2/images/spacexload2.png\">\n"
        },
        {
            "cell_type": "markdown",
            "metadata": {},
            "source": "**Changes to be considered when having DB2 instance with the new UI having Go to UI screen**\n\n*   Refer to this insruction in this <a href=\"https://cf-courses-data.s3.us.cloud-object-storage.appdomain.cloud/IBMDeveloperSkillsNetwork-DB0201EN-SkillsNetwork/labs/Labs_Coursera_V5/labs/Lab%20-%20Sign%20up%20for%20IBM%20Cloud%20-%20Create%20Db2%20service%20instance%20-%20Get%20started%20with%20the%20Db2%20console/instructional-labs.md.html?utm_medium=Exinfluencer&utm_source=Exinfluencer&utm_content=000026UJ&utm_term=10006555&utm_id=NA-SkillsNetwork-Channel-SkillsNetworkCoursesIBMDS0321ENSkillsNetwork26802033-2021-01-01\">link</a> for viewing  the new  Go to UI screen.\n\n*   Later click on **Data link(below SQL)**  in the Go to UI screen  and click on **Load Data** tab.\n\n*   Later browse for the downloaded spacex file.\n\n<img src=\"https://cf-courses-data.s3.us.cloud-object-storage.appdomain.cloud/IBM-DS0321EN-SkillsNetwork/labs/module_2/images/browsefile.png\" width=\"800\"/>\n\n*   Once done select the schema andload the file.\n\n <img src=\"https://cf-courses-data.s3.us.cloud-object-storage.appdomain.cloud/IBM-DS0321EN-SkillsNetwork/labs/module_2/images/spacexload3.png\" width=\"800\"/>\n"
        },
        {
            "cell_type": "code",
            "execution_count": 1,
            "metadata": {},
            "outputs": [
                {
                    "name": "stdout",
                    "output_type": "stream",
                    "text": "Requirement already satisfied: sqlalchemy==1.3.9 in /opt/conda/envs/Python-3.8-main/lib/python3.8/site-packages (1.3.9)\nRequirement already satisfied: ipython-sql in /opt/conda/envs/Python-3.8-main/lib/python3.8/site-packages (0.4.0)\nRequirement already satisfied: ipython-genutils>=0.1.0 in /opt/conda/envs/Python-3.8-main/lib/python3.8/site-packages (from ipython-sql) (0.2.0)\nRequirement already satisfied: ipython>=1.0 in /opt/conda/envs/Python-3.8-main/lib/python3.8/site-packages (from ipython-sql) (7.27.0)\nRequirement already satisfied: six in /opt/conda/envs/Python-3.8-main/lib/python3.8/site-packages (from ipython-sql) (1.15.0)\nRequirement already satisfied: sqlparse in /opt/conda/envs/Python-3.8-main/lib/python3.8/site-packages (from ipython-sql) (0.4.2)\nRequirement already satisfied: sqlalchemy>=0.6.7 in /opt/conda/envs/Python-3.8-main/lib/python3.8/site-packages (from ipython-sql) (1.3.9)\nRequirement already satisfied: prettytable<1 in /opt/conda/envs/Python-3.8-main/lib/python3.8/site-packages (from ipython-sql) (0.7.2)\nRequirement already satisfied: pygments in /opt/conda/envs/Python-3.8-main/lib/python3.8/site-packages (from ipython>=1.0->ipython-sql) (2.9.0)\nRequirement already satisfied: jedi>=0.16 in /opt/conda/envs/Python-3.8-main/lib/python3.8/site-packages (from ipython>=1.0->ipython-sql) (0.17.2)\nRequirement already satisfied: prompt-toolkit!=3.0.0,!=3.0.1,<3.1.0,>=2.0.0 in /opt/conda/envs/Python-3.8-main/lib/python3.8/site-packages (from ipython>=1.0->ipython-sql) (3.0.20)\nRequirement already satisfied: decorator in /opt/conda/envs/Python-3.8-main/lib/python3.8/site-packages (from ipython>=1.0->ipython-sql) (5.0.9)\nRequirement already satisfied: setuptools>=18.5 in /opt/conda/envs/Python-3.8-main/lib/python3.8/site-packages (from ipython>=1.0->ipython-sql) (52.0.0.post20211006)\nRequirement already satisfied: backcall in /opt/conda/envs/Python-3.8-main/lib/python3.8/site-packages (from ipython>=1.0->ipython-sql) (0.2.0)\nRequirement already satisfied: pexpect>4.3 in /opt/conda/envs/Python-3.8-main/lib/python3.8/site-packages (from ipython>=1.0->ipython-sql) (4.8.0)\nRequirement already satisfied: traitlets>=4.2 in /opt/conda/envs/Python-3.8-main/lib/python3.8/site-packages (from ipython>=1.0->ipython-sql) (5.0.5)\nRequirement already satisfied: matplotlib-inline in /opt/conda/envs/Python-3.8-main/lib/python3.8/site-packages (from ipython>=1.0->ipython-sql) (0.1.2)\nRequirement already satisfied: pickleshare in /opt/conda/envs/Python-3.8-main/lib/python3.8/site-packages (from ipython>=1.0->ipython-sql) (0.7.5)\nRequirement already satisfied: parso<0.8.0,>=0.7.0 in /opt/conda/envs/Python-3.8-main/lib/python3.8/site-packages (from jedi>=0.16->ipython>=1.0->ipython-sql) (0.7.0)\nRequirement already satisfied: ptyprocess>=0.5 in /opt/conda/envs/Python-3.8-main/lib/python3.8/site-packages (from pexpect>4.3->ipython>=1.0->ipython-sql) (0.7.0)\nRequirement already satisfied: wcwidth in /opt/conda/envs/Python-3.8-main/lib/python3.8/site-packages (from prompt-toolkit!=3.0.0,!=3.0.1,<3.1.0,>=2.0.0->ipython>=1.0->ipython-sql) (0.2.5)\n"
                }
            ],
            "source": "!pip install sqlalchemy==1.3.9\n!pip install ipython-sql"
        },
        {
            "cell_type": "markdown",
            "metadata": {},
            "source": "### Connect to the database\n\nLet us first load the SQL extension and establish a connection with the database\n"
        },
        {
            "cell_type": "code",
            "execution_count": 2,
            "metadata": {},
            "outputs": [],
            "source": "%load_ext sql\n"
        },
        {
            "cell_type": "code",
            "execution_count": 3,
            "metadata": {},
            "outputs": [],
            "source": "import csv, sqlite3\n\ncon = sqlite3.connect(\"my_data1.db\")\ncur = con.cursor()"
        },
        {
            "cell_type": "code",
            "execution_count": 4,
            "metadata": {},
            "outputs": [],
            "source": "# pip install from messageboard post\n!pip install -q pandas==1.1.5"
        },
        {
            "cell_type": "code",
            "execution_count": 5,
            "metadata": {},
            "outputs": [],
            "source": "%sql sqlite:///my_data1.db"
        },
        {
            "cell_type": "code",
            "execution_count": 6,
            "metadata": {},
            "outputs": [
                {
                    "name": "stderr",
                    "output_type": "stream",
                    "text": "/opt/conda/envs/Python-3.8-main/lib/python3.8/site-packages/pandas/core/generic.py:2605: UserWarning: The spaces in these column names will not be changed. In pandas versions < 0.14, spaces were converted to underscores.\n  sql.to_sql(\n"
                }
            ],
            "source": "import pandas as pd\ndf = pd.read_csv(\"https://cf-courses-data.s3.us.cloud-object-storage.appdomain.cloud/IBM-DS0321EN-SkillsNetwork/labs/module_2/data/Spacex.csv\")\ndf.to_sql(\"SPACEXTBL\", con, if_exists='replace', index=False,method=\"multi\")"
        },
        {
            "cell_type": "markdown",
            "metadata": {},
            "source": "## Tasks\n\nNow write and execute SQL queries to solve the assignment tasks.\n\n**Note: If the column names are in mixed case enclose it in double quotes\nFor Example \"Landing_Outcome\"**\n\n### Task 1\n\n##### Display the names of the unique launch sites  in the space mission\n"
        },
        {
            "cell_type": "code",
            "execution_count": 7,
            "metadata": {},
            "outputs": [
                {
                    "data": {
                        "text/plain": "array(['CCAFS LC-40', 'VAFB SLC-4E', 'KSC LC-39A', 'CCAFS SLC-40'],\n      dtype=object)"
                    },
                    "execution_count": 7,
                    "metadata": {},
                    "output_type": "execute_result"
                }
            ],
            "source": "df[\"Launch_Site\"].unique()"
        },
        {
            "cell_type": "markdown",
            "metadata": {},
            "source": "### Task 2\n\n##### Display 5 records where launch sites begin with the string 'KSC'\n"
        },
        {
            "cell_type": "code",
            "execution_count": 8,
            "metadata": {},
            "outputs": [
                {
                    "data": {
                        "text/html": "<div>\n<style scoped>\n    .dataframe tbody tr th:only-of-type {\n        vertical-align: middle;\n    }\n\n    .dataframe tbody tr th {\n        vertical-align: top;\n    }\n\n    .dataframe thead th {\n        text-align: right;\n    }\n</style>\n<table border=\"1\" class=\"dataframe\">\n  <thead>\n    <tr style=\"text-align: right;\">\n      <th></th>\n      <th>Date</th>\n      <th>Time (UTC)</th>\n      <th>Booster_Version</th>\n      <th>Launch_Site</th>\n      <th>Payload</th>\n      <th>PAYLOAD_MASS__KG_</th>\n      <th>Orbit</th>\n      <th>Customer</th>\n      <th>Mission_Outcome</th>\n      <th>Landing _Outcome</th>\n    </tr>\n  </thead>\n  <tbody>\n    <tr>\n      <th>29</th>\n      <td>19-02-2017</td>\n      <td>14:39:00</td>\n      <td>F9 FT B1031.1</td>\n      <td>KSC LC-39A</td>\n      <td>SpaceX CRS-10</td>\n      <td>2490</td>\n      <td>LEO (ISS)</td>\n      <td>NASA (CRS)</td>\n      <td>Success</td>\n      <td>Success (ground pad)</td>\n    </tr>\n    <tr>\n      <th>30</th>\n      <td>16-03-2017</td>\n      <td>06:00:00</td>\n      <td>F9 FT B1030</td>\n      <td>KSC LC-39A</td>\n      <td>EchoStar 23</td>\n      <td>5600</td>\n      <td>GTO</td>\n      <td>EchoStar</td>\n      <td>Success</td>\n      <td>No attempt</td>\n    </tr>\n    <tr>\n      <th>31</th>\n      <td>30-03-2017</td>\n      <td>22:27:00</td>\n      <td>F9 FT  B1021.2</td>\n      <td>KSC LC-39A</td>\n      <td>SES-10</td>\n      <td>5300</td>\n      <td>GTO</td>\n      <td>SES</td>\n      <td>Success</td>\n      <td>Success (drone ship)</td>\n    </tr>\n    <tr>\n      <th>32</th>\n      <td>01-05-2017</td>\n      <td>11:15:00</td>\n      <td>F9 FT B1032.1</td>\n      <td>KSC LC-39A</td>\n      <td>NROL-76</td>\n      <td>5300</td>\n      <td>LEO</td>\n      <td>NRO</td>\n      <td>Success</td>\n      <td>Success (ground pad)</td>\n    </tr>\n    <tr>\n      <th>33</th>\n      <td>15-05-2017</td>\n      <td>23:21:00</td>\n      <td>F9 FT B1034</td>\n      <td>KSC LC-39A</td>\n      <td>Inmarsat-5 F4</td>\n      <td>6070</td>\n      <td>GTO</td>\n      <td>Inmarsat</td>\n      <td>Success</td>\n      <td>No attempt</td>\n    </tr>\n  </tbody>\n</table>\n</div>",
                        "text/plain": "          Date Time (UTC) Booster_Version Launch_Site        Payload  \\\n29  19-02-2017   14:39:00   F9 FT B1031.1  KSC LC-39A  SpaceX CRS-10   \n30  16-03-2017   06:00:00     F9 FT B1030  KSC LC-39A    EchoStar 23   \n31  30-03-2017   22:27:00  F9 FT  B1021.2  KSC LC-39A         SES-10   \n32  01-05-2017   11:15:00   F9 FT B1032.1  KSC LC-39A        NROL-76   \n33  15-05-2017   23:21:00     F9 FT B1034  KSC LC-39A  Inmarsat-5 F4   \n\n    PAYLOAD_MASS__KG_      Orbit    Customer Mission_Outcome  \\\n29               2490  LEO (ISS)  NASA (CRS)         Success   \n30               5600        GTO    EchoStar         Success   \n31               5300        GTO         SES         Success   \n32               5300        LEO         NRO         Success   \n33               6070        GTO    Inmarsat         Success   \n\n        Landing _Outcome  \n29  Success (ground pad)  \n30            No attempt  \n31  Success (drone ship)  \n32  Success (ground pad)  \n33            No attempt  "
                    },
                    "execution_count": 8,
                    "metadata": {},
                    "output_type": "execute_result"
                }
            ],
            "source": "df[\"Launch_Site\"].str.startswith(\"KSC\")\nb = df[\"Launch_Site\"].str.startswith(\"KSC\")\ndf[b].head()"
        },
        {
            "cell_type": "markdown",
            "metadata": {},
            "source": "### Task 3\n\n##### Display the total payload mass carried by boosters launched by NASA (CRS)\n"
        },
        {
            "cell_type": "code",
            "execution_count": 9,
            "metadata": {},
            "outputs": [
                {
                    "data": {
                        "text/plain": "45596"
                    },
                    "execution_count": 9,
                    "metadata": {},
                    "output_type": "execute_result"
                }
            ],
            "source": "df[\"Customer\"] == \"NASA (CRS)\"\nn = df[\"Customer\"] == \"NASA (CRS)\"\ndf[n][\"PAYLOAD_MASS__KG_\"].sum()\n\n"
        },
        {
            "cell_type": "markdown",
            "metadata": {},
            "source": "### Task 4\n\n##### Display average payload mass carried by booster version F9 v1.1\n"
        },
        {
            "cell_type": "code",
            "execution_count": 12,
            "metadata": {},
            "outputs": [
                {
                    "data": {
                        "text/plain": "2928.4"
                    },
                    "execution_count": 12,
                    "metadata": {},
                    "output_type": "execute_result"
                }
            ],
            "source": "df[\"Booster_Version\"] == \"F9 v1.1\"\nF9 = df[\"Booster_Version\"] == \"F9 v1.1\"\ndf[F9][\"PAYLOAD_MASS__KG_\"].mean()\n"
        },
        {
            "cell_type": "code",
            "execution_count": 14,
            "metadata": {
                "scrolled": true
            },
            "outputs": [
                {
                    "data": {
                        "text/html": "<div>\n<style scoped>\n    .dataframe tbody tr th:only-of-type {\n        vertical-align: middle;\n    }\n\n    .dataframe tbody tr th {\n        vertical-align: top;\n    }\n\n    .dataframe thead th {\n        text-align: right;\n    }\n</style>\n<table border=\"1\" class=\"dataframe\">\n  <thead>\n    <tr style=\"text-align: right;\">\n      <th></th>\n      <th>Date</th>\n      <th>Time (UTC)</th>\n      <th>Booster_Version</th>\n      <th>Launch_Site</th>\n      <th>Payload</th>\n      <th>PAYLOAD_MASS__KG_</th>\n      <th>Orbit</th>\n      <th>Customer</th>\n      <th>Mission_Outcome</th>\n      <th>Landing _Outcome</th>\n    </tr>\n  </thead>\n  <tbody>\n    <tr>\n      <th>6</th>\n      <td>03-12-2013</td>\n      <td>22:41:00</td>\n      <td>F9 v1.1</td>\n      <td>CCAFS LC-40</td>\n      <td>SES-8</td>\n      <td>3170</td>\n      <td>GTO</td>\n      <td>SES</td>\n      <td>Success</td>\n      <td>No attempt</td>\n    </tr>\n    <tr>\n      <th>7</th>\n      <td>06-01-2014</td>\n      <td>22:06:00</td>\n      <td>F9 v1.1</td>\n      <td>CCAFS LC-40</td>\n      <td>Thaicom 6</td>\n      <td>3325</td>\n      <td>GTO</td>\n      <td>Thaicom</td>\n      <td>Success</td>\n      <td>No attempt</td>\n    </tr>\n    <tr>\n      <th>8</th>\n      <td>18-04-2014</td>\n      <td>19:25:00</td>\n      <td>F9 v1.1</td>\n      <td>CCAFS LC-40</td>\n      <td>SpaceX CRS-3</td>\n      <td>2296</td>\n      <td>LEO (ISS)</td>\n      <td>NASA (CRS)</td>\n      <td>Success</td>\n      <td>Controlled (ocean)</td>\n    </tr>\n    <tr>\n      <th>9</th>\n      <td>14-07-2014</td>\n      <td>15:15:00</td>\n      <td>F9 v1.1</td>\n      <td>CCAFS LC-40</td>\n      <td>OG2 Mission 1  6 Orbcomm-OG2 satellites</td>\n      <td>1316</td>\n      <td>LEO</td>\n      <td>Orbcomm</td>\n      <td>Success</td>\n      <td>Controlled (ocean)</td>\n    </tr>\n    <tr>\n      <th>10</th>\n      <td>05-08-2014</td>\n      <td>08:00:00</td>\n      <td>F9 v1.1</td>\n      <td>CCAFS LC-40</td>\n      <td>AsiaSat 8</td>\n      <td>4535</td>\n      <td>GTO</td>\n      <td>AsiaSat</td>\n      <td>Success</td>\n      <td>No attempt</td>\n    </tr>\n  </tbody>\n</table>\n</div>",
                        "text/plain": "          Date Time (UTC) Booster_Version  Launch_Site  \\\n6   03-12-2013   22:41:00         F9 v1.1  CCAFS LC-40   \n7   06-01-2014   22:06:00         F9 v1.1  CCAFS LC-40   \n8   18-04-2014   19:25:00         F9 v1.1  CCAFS LC-40   \n9   14-07-2014   15:15:00         F9 v1.1  CCAFS LC-40   \n10  05-08-2014   08:00:00         F9 v1.1  CCAFS LC-40   \n\n                                    Payload  PAYLOAD_MASS__KG_      Orbit  \\\n6                                     SES-8               3170        GTO   \n7                                 Thaicom 6               3325        GTO   \n8                              SpaceX CRS-3               2296  LEO (ISS)   \n9   OG2 Mission 1  6 Orbcomm-OG2 satellites               1316        LEO   \n10                                AsiaSat 8               4535        GTO   \n\n      Customer Mission_Outcome    Landing _Outcome  \n6          SES         Success          No attempt  \n7      Thaicom         Success          No attempt  \n8   NASA (CRS)         Success  Controlled (ocean)  \n9      Orbcomm         Success  Controlled (ocean)  \n10     AsiaSat         Success          No attempt  "
                    },
                    "execution_count": 14,
                    "metadata": {},
                    "output_type": "execute_result"
                }
            ],
            "source": "df[F9]"
        },
        {
            "cell_type": "markdown",
            "metadata": {},
            "source": "### Task 5\n\n##### List the date where the succesful landing outcome on the drone ship was acheived.\n\n*Hint:Use min function*\n"
        },
        {
            "cell_type": "code",
            "execution_count": 25,
            "metadata": {},
            "outputs": [
                {
                    "data": {
                        "text/plain": "22    08-04-2016\n23    06-05-2016\n24    27-05-2016\n27    14-08-2016\n28    14-01-2017\n31    30-03-2017\n35    23-06-2017\n36    25-06-2017\n39    24-08-2017\n41    09-10-2017\n42    11-10-2017\n43    30-10-2017\n52    18-04-2018\n53    11-05-2018\nName: Date, dtype: object"
                    },
                    "execution_count": 25,
                    "metadata": {},
                    "output_type": "execute_result"
                }
            ],
            "source": "df[\"Landing _Outcome\"] == \"Success (drone ship)\"\nAchieve = df[\"Landing _Outcome\"] == \"Success (drone ship)\"\ndf[Achieve]\ndf[Achieve][\"Date\"]"
        },
        {
            "cell_type": "markdown",
            "metadata": {},
            "source": "### Task 6\n\n##### List the names of the boosters which have success in ground pad  and have payload mass greater than 4000 but less than 6000\n"
        },
        {
            "cell_type": "code",
            "execution_count": 30,
            "metadata": {},
            "outputs": [
                {
                    "data": {
                        "text/plain": "array(['Failure (parachute)', 'No attempt', 'Uncontrolled (ocean)',\n       'Controlled (ocean)', 'Failure (drone ship)',\n       'Precluded (drone ship)', 'Success (ground pad)',\n       'Success (drone ship)', 'Success', 'Failure', 'No attempt '],\n      dtype=object)"
                    },
                    "execution_count": 30,
                    "metadata": {},
                    "output_type": "execute_result"
                }
            ],
            "source": "df[\"Landing _Outcome\"].unique()"
        },
        {
            "cell_type": "code",
            "execution_count": 39,
            "metadata": {},
            "outputs": [
                {
                    "data": {
                        "text/plain": "0      False\n1      False\n2      False\n3      False\n4      False\n       ...  \n96     False\n97     False\n98     False\n99     False\n100    False\nName: PAYLOAD_MASS__KG_, Length: 101, dtype: bool"
                    },
                    "execution_count": 39,
                    "metadata": {},
                    "output_type": "execute_result"
                }
            ],
            "source": "(df[\"PAYLOAD_MASS__KG_\"] < 4000 )& (df[\"PAYLOAD_MASS__KG_\"] > 6000)"
        },
        {
            "cell_type": "code",
            "execution_count": 52,
            "metadata": {},
            "outputs": [
                {
                    "data": {
                        "text/html": "<div>\n<style scoped>\n    .dataframe tbody tr th:only-of-type {\n        vertical-align: middle;\n    }\n\n    .dataframe tbody tr th {\n        vertical-align: top;\n    }\n\n    .dataframe thead th {\n        text-align: right;\n    }\n</style>\n<table border=\"1\" class=\"dataframe\">\n  <thead>\n    <tr style=\"text-align: right;\">\n      <th></th>\n      <th>Date</th>\n      <th>Time (UTC)</th>\n      <th>Booster_Version</th>\n      <th>Launch_Site</th>\n      <th>Payload</th>\n      <th>PAYLOAD_MASS__KG_</th>\n      <th>Orbit</th>\n      <th>Customer</th>\n      <th>Mission_Outcome</th>\n      <th>Landing _Outcome</th>\n    </tr>\n  </thead>\n  <tbody>\n    <tr>\n      <th>32</th>\n      <td>01-05-2017</td>\n      <td>11:15:00</td>\n      <td>F9 FT B1032.1</td>\n      <td>KSC LC-39A</td>\n      <td>NROL-76</td>\n      <td>5300</td>\n      <td>LEO</td>\n      <td>NRO</td>\n      <td>Success</td>\n      <td>Success (ground pad)</td>\n    </tr>\n    <tr>\n      <th>40</th>\n      <td>07-09-2017</td>\n      <td>14:00:00</td>\n      <td>F9 B4 B1040.1</td>\n      <td>KSC LC-39A</td>\n      <td>Boeing X-37B OTV-5</td>\n      <td>4990</td>\n      <td>LEO</td>\n      <td>U.S. Air Force</td>\n      <td>Success</td>\n      <td>Success (ground pad)</td>\n    </tr>\n    <tr>\n      <th>46</th>\n      <td>08-01-2018</td>\n      <td>01:00:00</td>\n      <td>F9 B4 B1043.1</td>\n      <td>CCAFS SLC-40</td>\n      <td>Zuma</td>\n      <td>5000</td>\n      <td>LEO</td>\n      <td>Northrop Grumman</td>\n      <td>Success (payload status unclear)</td>\n      <td>Success (ground pad)</td>\n    </tr>\n  </tbody>\n</table>\n</div>",
                        "text/plain": "          Date Time (UTC) Booster_Version   Launch_Site             Payload  \\\n32  01-05-2017   11:15:00   F9 FT B1032.1    KSC LC-39A             NROL-76   \n40  07-09-2017   14:00:00   F9 B4 B1040.1    KSC LC-39A  Boeing X-37B OTV-5   \n46  08-01-2018   01:00:00   F9 B4 B1043.1  CCAFS SLC-40                Zuma   \n\n    PAYLOAD_MASS__KG_ Orbit          Customer  \\\n32               5300   LEO               NRO   \n40               4990   LEO    U.S. Air Force   \n46               5000   LEO  Northrop Grumman   \n\n                     Mission_Outcome      Landing _Outcome  \n32                           Success  Success (ground pad)  \n40                           Success  Success (ground pad)  \n46  Success (payload status unclear)  Success (ground pad)  "
                    },
                    "execution_count": 52,
                    "metadata": {},
                    "output_type": "execute_result"
                }
            ],
            "source": "Boostername = (df[\"Landing _Outcome\"] == \"Success (ground pad)\") & (df[\"PAYLOAD_MASS__KG_\"] > 4000) & (df[\"PAYLOAD_MASS__KG_\"] < 6000)\ndf[Boostername]"
        },
        {
            "cell_type": "code",
            "execution_count": 53,
            "metadata": {},
            "outputs": [
                {
                    "data": {
                        "text/plain": "32    F9 FT B1032.1\n40    F9 B4 B1040.1\n46    F9 B4 B1043.1\nName: Booster_Version, dtype: object"
                    },
                    "execution_count": 53,
                    "metadata": {},
                    "output_type": "execute_result"
                }
            ],
            "source": "df[Boostername][\"Booster_Version\"]"
        },
        {
            "cell_type": "markdown",
            "metadata": {},
            "source": "### Task 7\n\n##### List the total number of successful and failure mission outcomes\n"
        },
        {
            "cell_type": "code",
            "execution_count": 57,
            "metadata": {},
            "outputs": [
                {
                    "data": {
                        "text/plain": "101"
                    },
                    "execution_count": 57,
                    "metadata": {},
                    "output_type": "execute_result"
                }
            ],
            "source": "df[\"Mission_Outcome\"].count()\n\n#Total Mission Outcomes = 101\n"
        },
        {
            "cell_type": "code",
            "execution_count": 66,
            "metadata": {},
            "outputs": [
                {
                    "data": {
                        "text/plain": "Date                 100\nTime (UTC)           100\nBooster_Version      100\nLaunch_Site          100\nPayload              100\nPAYLOAD_MASS__KG_    100\nOrbit                100\nCustomer             100\nMission_Outcome      100\nLanding _Outcome     100\ndtype: int64"
                    },
                    "execution_count": 66,
                    "metadata": {},
                    "output_type": "execute_result"
                }
            ],
            "source": "#Successful Mission Outcomes\nSuc = (df[\"Mission_Outcome\"] == \"Success\") | (df[\"Mission_Outcome\"] == 'Success (payload status unclear)') | (df[\"Mission_Outcome\"] == 'Success ')\ndf[Suc]\ndf[Suc].count()"
        },
        {
            "cell_type": "code",
            "execution_count": 65,
            "metadata": {},
            "outputs": [
                {
                    "data": {
                        "text/plain": "Date                 1\nTime (UTC)           1\nBooster_Version      1\nLaunch_Site          1\nPayload              1\nPAYLOAD_MASS__KG_    1\nOrbit                1\nCustomer             1\nMission_Outcome      1\nLanding _Outcome     1\ndtype: int64"
                    },
                    "execution_count": 65,
                    "metadata": {},
                    "output_type": "execute_result"
                }
            ],
            "source": "df[\"Mission_Outcome\"] == \"Failure (in flight)\"\nFai = (df[\"Mission_Outcome\"] == \"Failure (in flight)\")\ndf[Fai]\ndf[Fai].count()"
        },
        {
            "cell_type": "code",
            "execution_count": 64,
            "metadata": {},
            "outputs": [
                {
                    "data": {
                        "text/plain": "array(['Success', 'Failure (in flight)',\n       'Success (payload status unclear)', 'Success '], dtype=object)"
                    },
                    "execution_count": 64,
                    "metadata": {},
                    "output_type": "execute_result"
                }
            ],
            "source": "df[\"Mission_Outcome\"].unique()"
        },
        {
            "cell_type": "markdown",
            "metadata": {},
            "source": "### Task 8\n\n##### List the   names of the booster_versions which have carried the maximum payload mass. Use a subquery\n"
        },
        {
            "cell_type": "code",
            "execution_count": 75,
            "metadata": {},
            "outputs": [
                {
                    "data": {
                        "text/plain": "74     F9 B5 B1048.4\n77     F9 B5 B1049.4\n79     F9 B5 B1051.3\n80     F9 B5 B1056.4\n82     F9 B5 B1048.5\n83     F9 B5 B1051.4\n85     F9 B5 B1049.5\n92    F9 B5 B1060.2 \n93    F9 B5 B1058.3 \n94     F9 B5 B1051.6\n95     F9 B5 B1060.3\n99    F9 B5 B1049.7 \nName: Booster_Version, dtype: object"
                    },
                    "execution_count": 75,
                    "metadata": {},
                    "output_type": "execute_result"
                }
            ],
            "source": "MaxVal = df[\"PAYLOAD_MASS__KG_\"].max()\ndf[\"PAYLOAD_MASS__KG_\"] == MaxVal\nbol = (df[\"PAYLOAD_MASS__KG_\"] == MaxVal)\ndf[bol][\"Booster_Version\"]"
        },
        {
            "cell_type": "markdown",
            "metadata": {},
            "source": "### Task 9\n\n##### List the records which will display the month names, succesful landing_outcomes in ground pad ,booster versions, launch_site for the months in year 2017\n\n**Note: SQLLite does not support monthnames. So you need to use  substr(Date, 4, 2) as month to get the months and substr(Date,7,4)='2017' for year.**\n"
        },
        {
            "cell_type": "code",
            "execution_count": 108,
            "metadata": {},
            "outputs": [
                {
                    "data": {
                        "text/plain": "array(['Failure (parachute)', 'No attempt', 'Uncontrolled (ocean)',\n       'Controlled (ocean)', 'Failure (drone ship)',\n       'Precluded (drone ship)', 'Success (ground pad)',\n       'Success (drone ship)', 'Success', 'Failure', 'No attempt '],\n      dtype=object)"
                    },
                    "execution_count": 108,
                    "metadata": {},
                    "output_type": "execute_result"
                }
            ],
            "source": "df.columns\ndf['Landing _Outcome'].unique()"
        },
        {
            "cell_type": "code",
            "execution_count": 159,
            "metadata": {},
            "outputs": [
                {
                    "data": {
                        "text/plain": "0      [04, 06, 2010]\n1      [08, 12, 2010]\n2      [22, 05, 2012]\n3      [08, 10, 2012]\n4      [01, 03, 2013]\n            ...      \n96     [05, 11, 2020]\n97     [16, 11, 2020]\n98     [21, 11, 2020]\n99     [25, 11, 2020]\n100    [06, 12, 2020]\nName: Date, Length: 101, dtype: object"
                    },
                    "execution_count": 159,
                    "metadata": {},
                    "output_type": "execute_result"
                }
            ],
            "source": "df['Date'].str.split('-')"
        },
        {
            "cell_type": "code",
            "execution_count": 177,
            "metadata": {},
            "outputs": [
                {
                    "data": {
                        "text/html": "<div>\n<style scoped>\n    .dataframe tbody tr th:only-of-type {\n        vertical-align: middle;\n    }\n\n    .dataframe tbody tr th {\n        vertical-align: top;\n    }\n\n    .dataframe thead th {\n        text-align: right;\n    }\n</style>\n<table border=\"1\" class=\"dataframe\">\n  <thead>\n    <tr style=\"text-align: right;\">\n      <th></th>\n      <th>Month</th>\n      <th>Booster_Version</th>\n      <th>Launch_Site</th>\n      <th>Landing _Outcome</th>\n    </tr>\n  </thead>\n  <tbody>\n    <tr>\n      <th>29</th>\n      <td>2</td>\n      <td>F9 FT B1031.1</td>\n      <td>KSC LC-39A</td>\n      <td>Success (ground pad)</td>\n    </tr>\n    <tr>\n      <th>32</th>\n      <td>5</td>\n      <td>F9 FT B1032.1</td>\n      <td>KSC LC-39A</td>\n      <td>Success (ground pad)</td>\n    </tr>\n    <tr>\n      <th>34</th>\n      <td>6</td>\n      <td>F9 FT B1035.1</td>\n      <td>KSC LC-39A</td>\n      <td>Success (ground pad)</td>\n    </tr>\n    <tr>\n      <th>38</th>\n      <td>8</td>\n      <td>F9 B4 B1039.1</td>\n      <td>KSC LC-39A</td>\n      <td>Success (ground pad)</td>\n    </tr>\n    <tr>\n      <th>40</th>\n      <td>9</td>\n      <td>F9 B4 B1040.1</td>\n      <td>KSC LC-39A</td>\n      <td>Success (ground pad)</td>\n    </tr>\n    <tr>\n      <th>44</th>\n      <td>12</td>\n      <td>F9 FT  B1035.2</td>\n      <td>CCAFS SLC-40</td>\n      <td>Success (ground pad)</td>\n    </tr>\n  </tbody>\n</table>\n</div>",
                        "text/plain": "    Month Booster_Version   Launch_Site      Landing _Outcome\n29      2   F9 FT B1031.1    KSC LC-39A  Success (ground pad)\n32      5   F9 FT B1032.1    KSC LC-39A  Success (ground pad)\n34      6   F9 FT B1035.1    KSC LC-39A  Success (ground pad)\n38      8   F9 B4 B1039.1    KSC LC-39A  Success (ground pad)\n40      9   F9 B4 B1040.1    KSC LC-39A  Success (ground pad)\n44     12  F9 FT  B1035.2  CCAFS SLC-40  Success (ground pad)"
                    },
                    "execution_count": 177,
                    "metadata": {},
                    "output_type": "execute_result"
                }
            ],
            "source": "df2 = df\ndf2['Year'] = df['Date'].apply(lambda x: int(x.split('-')[2]))\ndf2['Month'] = df['Date'].apply(lambda x: int(x.split('-')[1]))\n\nb = (df2['Year']==2017) & (df2['Landing _Outcome']=='Success (ground pad)')\ndf2[b].loc[:, ['Month', 'Booster_Version', 'Launch_Site', 'Landing _Outcome']]"
        },
        {
            "cell_type": "markdown",
            "metadata": {},
            "source": "### Task 10\n\n##### Rank the  count of  successful landing_outcomes between the date  04-06-2010 and 20-03-2017 in descending order.\n"
        },
        {
            "cell_type": "code",
            "execution_count": 201,
            "metadata": {},
            "outputs": [
                {
                    "data": {
                        "text/plain": "array(['Failure (parachute)', 'No attempt', 'Uncontrolled (ocean)',\n       'Controlled (ocean)', 'Failure (drone ship)',\n       'Precluded (drone ship)', 'Success (ground pad)',\n       'Success (drone ship)', 'Success', 'Failure', 'No attempt '],\n      dtype=object)"
                    },
                    "execution_count": 201,
                    "metadata": {},
                    "output_type": "execute_result"
                }
            ],
            "source": "df['Landing _Outcome'].unique()"
        },
        {
            "cell_type": "code",
            "execution_count": 213,
            "metadata": {},
            "outputs": [
                {
                    "name": "stdout",
                    "output_type": "stream",
                    "text": " * sqlite:///my_data1.db\nDone.\n"
                },
                {
                    "data": {
                        "text/html": "<table>\n    <tr>\n        <th>Landing _Outcome</th>\n        <th>count(*)</th>\n    </tr>\n    <tr>\n        <td>Success</td>\n        <td>20</td>\n    </tr>\n    <tr>\n        <td>Success (drone ship)</td>\n        <td>8</td>\n    </tr>\n    <tr>\n        <td>Success (ground pad)</td>\n        <td>6</td>\n    </tr>\n</table>",
                        "text/plain": "[('Success', 20), ('Success (drone ship)', 8), ('Success (ground pad)', 6)]"
                    },
                    "execution_count": 213,
                    "metadata": {},
                    "output_type": "execute_result"
                }
            ],
            "source": "%sql select \"landing _outcome\", count(*) from (select * from SPACEXTBL where (date between '04-06-2010' and '20-03-2017') and \"landing _outcome\" IN ('Success', 'Success (ground pad)', 'Success (drone ship)')) group by \"landing _outcome\" order by count(*) desc  "
        },
        {
            "cell_type": "markdown",
            "metadata": {},
            "source": "### Reference Links\n\n*   <a href =\"https://cf-courses-data.s3.us.cloud-object-storage.appdomain.cloud/IBMDeveloperSkillsNetwork-DB0201EN-SkillsNetwork/labs/Module%203/LAB-String_Patterns_Sorting_Grouping.md.html?utm_medium=Exinfluencer&utm_source=Exinfluencer&utm_content=000026UJ&utm_term=10006555&utm_id=NA-SkillsNetwork-Channel-SkillsNetworkCoursesIBMDS0321ENSkillsNetwork26802033-2021-01-01\">Hands-on Lab : String Patterns, Sorting and Grouping</a>\n\n*   <a  href=\"https://cf-courses-data.s3.us.cloud-object-storage.appdomain.cloud/IBMDeveloperSkillsNetwork-DB0201EN-SkillsNetwork/labs/Labs_Coursera_V5/labs/Lab%20-%20Built-in%20functions%20/Hands-on_Lab__Built-in_Functions.md.html?utm_medium=Exinfluencer&utm_source=Exinfluencer&utm_content=000026UJ&utm_term=10006555&utm_id=NA-SkillsNetwork-Channel-SkillsNetworkCoursesIBMDS0321ENSkillsNetwork26802033-2021-01-01\">Hands-on Lab: Built-in functions</a>\n\n*   <a  href=\"https://cf-courses-data.s3.us.cloud-object-storage.appdomain.cloud/IBMDeveloperSkillsNetwork-DB0201EN-SkillsNetwork/labs/Labs_Coursera_V5/labs/Lab%20-%20Sub-queries%20and%20Nested%20SELECTs%20/instructional-labs.md.html?utm_medium=Exinfluencer&utm_source=Exinfluencer&utm_content=000026UJ&utm_term=10006555&utm_id=NA-SkillsNetwork-Channel-SkillsNetworkCoursesIBMDS0321ENSkillsNetwork26802033-2021-01-01\">Hands-on Lab : Sub-queries and Nested SELECT Statements</a>\n\n*   <a href=\"https://cf-courses-data.s3.us.cloud-object-storage.appdomain.cloud/IBMDeveloperSkillsNetwork-DB0201EN-SkillsNetwork/labs/Module%205/DB0201EN-Week3-1-3-SQLmagic.ipynb?utm_medium=Exinfluencer&utm_source=Exinfluencer&utm_content=000026UJ&utm_term=10006555&utm_id=NA-SkillsNetwork-Channel-SkillsNetworkCoursesIBMDS0321ENSkillsNetwork26802033-2021-01-01\">Hands-on Tutorial: Accessing Databases with SQL magic</a>\n\n*   <a href= \"https://cf-courses-data.s3.us.cloud-object-storage.appdomain.cloud/IBMDeveloperSkillsNetwork-DB0201EN-SkillsNetwork/labs/Module%205/DB0201EN-Week3-1-4-Analyzing.ipynb?utm_medium=Exinfluencer&utm_source=Exinfluencer&utm_content=000026UJ&utm_term=10006555&utm_id=NA-SkillsNetwork-Channel-SkillsNetworkCoursesIBMDS0321ENSkillsNetwork26802033-2021-01-01\">Hands-on Lab: Analyzing a real World Data Set</a>\n"
        },
        {
            "cell_type": "markdown",
            "metadata": {},
            "source": "## Author(s)\n\n<h4> Lakshmi Holla </h4>\n"
        },
        {
            "cell_type": "markdown",
            "metadata": {},
            "source": "## Other Contributors\n\n<h4> Rav Ahuja </h4>\n"
        },
        {
            "cell_type": "markdown",
            "metadata": {},
            "source": "## Change log\n\n| Date       | Version | Changed by    | Change Description        |\n| ---------- | ------- | ------------- | ------------------------- |\n| 2021-07-09 | 0.2     | Lakshmi Holla | Changes made in magic sql |\n| 2021-05-20 | 0.1     | Lakshmi Holla | Created Initial Version   |\n"
        },
        {
            "cell_type": "markdown",
            "metadata": {},
            "source": "## <h3 align=\"center\"> \u00a9 IBM Corporation 2021. All rights reserved. <h3/>\n"
        }
    ],
    "metadata": {
        "kernelspec": {
            "display_name": "Python 3.8",
            "language": "python",
            "name": "python3"
        },
        "language_info": {
            "codemirror_mode": {
                "name": "ipython",
                "version": 3
            },
            "file_extension": ".py",
            "mimetype": "text/x-python",
            "name": "python",
            "nbconvert_exporter": "python",
            "pygments_lexer": "ipython3",
            "version": "3.8.12"
        }
    },
    "nbformat": 4,
    "nbformat_minor": 4
}